{
 "cells": [
  {
   "cell_type": "code",
   "execution_count": 1,
   "metadata": {
    "collapsed": false
   },
   "outputs": [],
   "source": [
    "import numpy as np \n",
    "import pandas as pd\n",
    "## agg backend is used to create plot as a .png file\n",
    "import matplotlib \n",
    "matplotlib.use('agg')\n",
    "\n",
    "import matplotlib.pyplot as plt\n",
    "%matplotlib inline\n",
    "\n",
    "autos = pd.read_csv('C:\\\\Users\\\\Marci\\\\Desktop\\\\autos.csv',encoding = \"ISO-8859-1\")"
   ]
  },
  {
   "cell_type": "code",
   "execution_count": 2,
   "metadata": {
    "collapsed": false
   },
   "outputs": [
    {
     "name": "stdout",
     "output_type": "stream",
     "text": [
      "Index(['dateCrawled', 'name', 'seller', 'offerType', 'price', 'abtest',\n",
      "       'vehicleType', 'yearOfRegistration', 'gearbox', 'powerPS', 'model',\n",
      "       'kilometer', 'monthOfRegistration', 'fuelType', 'brand',\n",
      "       'notRepairedDamage', 'dateCreated', 'nrOfPictures', 'postalCode',\n",
      "       'lastSeen'],\n",
      "      dtype='object')\n"
     ]
    }
   ],
   "source": [
    "print(autos.columns)"
   ]
  },
  {
   "cell_type": "code",
   "execution_count": 3,
   "metadata": {
    "collapsed": false
   },
   "outputs": [
    {
     "name": "stdout",
     "output_type": "stream",
     "text": [
      "Requirement already satisfied (use --upgrade to upgrade): seaborn in c:\\users\\marci\\anaconda3\\lib\\site-packages\n"
     ]
    },
    {
     "name": "stderr",
     "output_type": "stream",
     "text": [
      "You are using pip version 8.1.2, however version 9.0.1 is available.\n",
      "You should consider upgrading via the 'python -m pip install --upgrade pip' command.\n"
     ]
    },
    {
     "name": "stdout",
     "output_type": "stream",
     "text": [
      "Requirement already satisfied (use --upgrade to upgrade): sklearn in c:\\users\\marci\\anaconda3\\lib\\site-packages\n",
      "Requirement already satisfied (use --upgrade to upgrade): scikit-learn in c:\\users\\marci\\anaconda3\\lib\\site-packages (from sklearn)\n"
     ]
    },
    {
     "name": "stderr",
     "output_type": "stream",
     "text": [
      "You are using pip version 8.1.2, however version 9.0.1 is available.\n",
      "You should consider upgrading via the 'python -m pip install --upgrade pip' command.\n"
     ]
    }
   ],
   "source": [
    "!pip install seaborn\n",
    "!pip install sklearn"
   ]
  },
  {
   "cell_type": "code",
   "execution_count": 4,
   "metadata": {
    "collapsed": false
   },
   "outputs": [],
   "source": [
    "import seaborn as sns"
   ]
  },
  {
   "cell_type": "code",
   "execution_count": 5,
   "metadata": {
    "collapsed": false,
    "scrolled": true
   },
   "outputs": [
    {
     "data": {
      "text/html": [
       "<div>\n",
       "<table border=\"1\" class=\"dataframe\">\n",
       "  <thead>\n",
       "    <tr style=\"text-align: right;\">\n",
       "      <th></th>\n",
       "      <th>dateCrawled</th>\n",
       "      <th>name</th>\n",
       "      <th>seller</th>\n",
       "      <th>offerType</th>\n",
       "      <th>price</th>\n",
       "      <th>abtest</th>\n",
       "      <th>vehicleType</th>\n",
       "      <th>yearOfRegistration</th>\n",
       "      <th>gearbox</th>\n",
       "      <th>powerPS</th>\n",
       "      <th>model</th>\n",
       "      <th>kilometer</th>\n",
       "      <th>monthOfRegistration</th>\n",
       "      <th>fuelType</th>\n",
       "      <th>brand</th>\n",
       "      <th>notRepairedDamage</th>\n",
       "      <th>dateCreated</th>\n",
       "      <th>nrOfPictures</th>\n",
       "      <th>postalCode</th>\n",
       "      <th>lastSeen</th>\n",
       "    </tr>\n",
       "  </thead>\n",
       "  <tbody>\n",
       "    <tr>\n",
       "      <th>0</th>\n",
       "      <td>2016-03-24 11:52:17</td>\n",
       "      <td>Golf_3_1.6</td>\n",
       "      <td>privat</td>\n",
       "      <td>Angebot</td>\n",
       "      <td>480</td>\n",
       "      <td>test</td>\n",
       "      <td>NaN</td>\n",
       "      <td>1993</td>\n",
       "      <td>manuell</td>\n",
       "      <td>0</td>\n",
       "      <td>golf</td>\n",
       "      <td>150000</td>\n",
       "      <td>0</td>\n",
       "      <td>benzin</td>\n",
       "      <td>volkswagen</td>\n",
       "      <td>NaN</td>\n",
       "      <td>2016-03-24 00:00:00</td>\n",
       "      <td>0</td>\n",
       "      <td>70435</td>\n",
       "      <td>2016-04-07 03:16:57</td>\n",
       "    </tr>\n",
       "    <tr>\n",
       "      <th>1</th>\n",
       "      <td>2016-03-24 10:58:45</td>\n",
       "      <td>A5_Sportback_2.7_Tdi</td>\n",
       "      <td>privat</td>\n",
       "      <td>Angebot</td>\n",
       "      <td>18300</td>\n",
       "      <td>test</td>\n",
       "      <td>coupe</td>\n",
       "      <td>2011</td>\n",
       "      <td>manuell</td>\n",
       "      <td>190</td>\n",
       "      <td>NaN</td>\n",
       "      <td>125000</td>\n",
       "      <td>5</td>\n",
       "      <td>diesel</td>\n",
       "      <td>audi</td>\n",
       "      <td>ja</td>\n",
       "      <td>2016-03-24 00:00:00</td>\n",
       "      <td>0</td>\n",
       "      <td>66954</td>\n",
       "      <td>2016-04-07 01:46:50</td>\n",
       "    </tr>\n",
       "    <tr>\n",
       "      <th>2</th>\n",
       "      <td>2016-03-14 12:52:21</td>\n",
       "      <td>Jeep_Grand_Cherokee_\"Overland\"</td>\n",
       "      <td>privat</td>\n",
       "      <td>Angebot</td>\n",
       "      <td>9800</td>\n",
       "      <td>test</td>\n",
       "      <td>suv</td>\n",
       "      <td>2004</td>\n",
       "      <td>automatik</td>\n",
       "      <td>163</td>\n",
       "      <td>grand</td>\n",
       "      <td>125000</td>\n",
       "      <td>8</td>\n",
       "      <td>diesel</td>\n",
       "      <td>jeep</td>\n",
       "      <td>NaN</td>\n",
       "      <td>2016-03-14 00:00:00</td>\n",
       "      <td>0</td>\n",
       "      <td>90480</td>\n",
       "      <td>2016-04-05 12:47:46</td>\n",
       "    </tr>\n",
       "    <tr>\n",
       "      <th>3</th>\n",
       "      <td>2016-03-17 16:54:04</td>\n",
       "      <td>GOLF_4_1_4__3TÜRER</td>\n",
       "      <td>privat</td>\n",
       "      <td>Angebot</td>\n",
       "      <td>1500</td>\n",
       "      <td>test</td>\n",
       "      <td>kleinwagen</td>\n",
       "      <td>2001</td>\n",
       "      <td>manuell</td>\n",
       "      <td>75</td>\n",
       "      <td>golf</td>\n",
       "      <td>150000</td>\n",
       "      <td>6</td>\n",
       "      <td>benzin</td>\n",
       "      <td>volkswagen</td>\n",
       "      <td>nein</td>\n",
       "      <td>2016-03-17 00:00:00</td>\n",
       "      <td>0</td>\n",
       "      <td>91074</td>\n",
       "      <td>2016-03-17 17:40:17</td>\n",
       "    </tr>\n",
       "    <tr>\n",
       "      <th>4</th>\n",
       "      <td>2016-03-31 17:25:20</td>\n",
       "      <td>Skoda_Fabia_1.4_TDI_PD_Classic</td>\n",
       "      <td>privat</td>\n",
       "      <td>Angebot</td>\n",
       "      <td>3600</td>\n",
       "      <td>test</td>\n",
       "      <td>kleinwagen</td>\n",
       "      <td>2008</td>\n",
       "      <td>manuell</td>\n",
       "      <td>69</td>\n",
       "      <td>fabia</td>\n",
       "      <td>90000</td>\n",
       "      <td>7</td>\n",
       "      <td>diesel</td>\n",
       "      <td>skoda</td>\n",
       "      <td>nein</td>\n",
       "      <td>2016-03-31 00:00:00</td>\n",
       "      <td>0</td>\n",
       "      <td>60437</td>\n",
       "      <td>2016-04-06 10:17:21</td>\n",
       "    </tr>\n",
       "  </tbody>\n",
       "</table>\n",
       "</div>"
      ],
      "text/plain": [
       "           dateCrawled                            name  seller offerType  \\\n",
       "0  2016-03-24 11:52:17                      Golf_3_1.6  privat   Angebot   \n",
       "1  2016-03-24 10:58:45            A5_Sportback_2.7_Tdi  privat   Angebot   \n",
       "2  2016-03-14 12:52:21  Jeep_Grand_Cherokee_\"Overland\"  privat   Angebot   \n",
       "3  2016-03-17 16:54:04              GOLF_4_1_4__3TÜRER  privat   Angebot   \n",
       "4  2016-03-31 17:25:20  Skoda_Fabia_1.4_TDI_PD_Classic  privat   Angebot   \n",
       "\n",
       "   price abtest vehicleType  yearOfRegistration    gearbox  powerPS  model  \\\n",
       "0    480   test         NaN                1993    manuell        0   golf   \n",
       "1  18300   test       coupe                2011    manuell      190    NaN   \n",
       "2   9800   test         suv                2004  automatik      163  grand   \n",
       "3   1500   test  kleinwagen                2001    manuell       75   golf   \n",
       "4   3600   test  kleinwagen                2008    manuell       69  fabia   \n",
       "\n",
       "   kilometer  monthOfRegistration fuelType       brand notRepairedDamage  \\\n",
       "0     150000                    0   benzin  volkswagen               NaN   \n",
       "1     125000                    5   diesel        audi                ja   \n",
       "2     125000                    8   diesel        jeep               NaN   \n",
       "3     150000                    6   benzin  volkswagen              nein   \n",
       "4      90000                    7   diesel       skoda              nein   \n",
       "\n",
       "           dateCreated  nrOfPictures  postalCode             lastSeen  \n",
       "0  2016-03-24 00:00:00             0       70435  2016-04-07 03:16:57  \n",
       "1  2016-03-24 00:00:00             0       66954  2016-04-07 01:46:50  \n",
       "2  2016-03-14 00:00:00             0       90480  2016-04-05 12:47:46  \n",
       "3  2016-03-17 00:00:00             0       91074  2016-03-17 17:40:17  \n",
       "4  2016-03-31 00:00:00             0       60437  2016-04-06 10:17:21  "
      ]
     },
     "execution_count": 5,
     "metadata": {},
     "output_type": "execute_result"
    }
   ],
   "source": [
    "autos.head(5)"
   ]
  },
  {
   "cell_type": "code",
   "execution_count": 6,
   "metadata": {
    "collapsed": false
   },
   "outputs": [
    {
     "name": "stdout",
     "output_type": "stream",
     "text": [
      "(371528, 20)\n",
      "###########################################\n",
      "              price  yearOfRegistration        powerPS      kilometer  \\\n",
      "count  3.715280e+05       371528.000000  371528.000000  371528.000000   \n",
      "mean   1.729514e+04         2004.577997     115.549477  125618.688228   \n",
      "std    3.587954e+06           92.866598     192.139578   40112.337051   \n",
      "min    0.000000e+00         1000.000000       0.000000    5000.000000   \n",
      "25%    1.150000e+03         1999.000000      70.000000  125000.000000   \n",
      "50%    2.950000e+03         2003.000000     105.000000  150000.000000   \n",
      "75%    7.200000e+03         2008.000000     150.000000  150000.000000   \n",
      "max    2.147484e+09         9999.000000   20000.000000  150000.000000   \n",
      "\n",
      "       monthOfRegistration  nrOfPictures    postalCode  \n",
      "count        371528.000000      371528.0  371528.00000  \n",
      "mean              5.734445           0.0   50820.66764  \n",
      "std               3.712412           0.0   25799.08247  \n",
      "min               0.000000           0.0    1067.00000  \n",
      "25%               3.000000           0.0   30459.00000  \n",
      "50%               6.000000           0.0   49610.00000  \n",
      "75%               9.000000           0.0   71546.00000  \n",
      "max              12.000000           0.0   99998.00000  \n",
      "###########################################\n"
     ]
    }
   ],
   "source": [
    "print(autos.shape)\n",
    "print('###########################################')\n",
    "print(autos.describe())\n",
    "#nrOf Pictures should be dropped, no particular information\n",
    "print('###########################################')\n",
    "autos = autos.drop('nrOfPictures',axis=1)   #it needs numpy to run"
   ]
  },
  {
   "cell_type": "code",
   "execution_count": 7,
   "metadata": {
    "collapsed": false
   },
   "outputs": [
    {
     "name": "stdout",
     "output_type": "stream",
     "text": [
      "name\n",
      "!!!!!!!!!!!!!!!!!!!!!!!!__GOLF_3_CABRIO___!!!!!!!!!!!!!!!!!!!!!!!     1\n",
      "!!!!!!!!!!!!!!!!_VERKAUFE_OPEL_CORSA_B_!!!!!!!!!!!!!!!                1\n",
      "!!!!!!!!!!!!!!Renault_Clio_5_Tuerig_Servolenkung_!!!!!!!!!!!!!!!!!    1\n",
      "!!!!!!!!!!!!!!_Suche_Opel_Astra_G_!!!!!!!!!!!!!!!!!!!!!!!!!!!         2\n",
      "!!!!!!!!!!!!_Seat_Toledo_1M_!!!!!!!!!!!                               1\n",
      "!!!!!!!!!!Corsa_D_5_Tuerer_tuev_Neu_03/2018!!!!!!!!!!                 1\n",
      "!!!!!!!!BMW_530D_Touring_Vollausstattung!!!!!!                        1\n",
      "!!!!!!!!TOP__._SMART_!!!!!                                            1\n",
      "!!!!!!!!_SCHROTT!!!!!!!!                                              1\n",
      "!!!!!!!!_Samstag_abzugeben_Renault_Clio_!!!!!?                        1\n",
      "!!!!!!!!__Skoda_Superb_2.0_TDI_DSG__Elegance__!!!!!!!!!               1\n",
      "!!!!!!!!zum_verkauf_steht_hier_mein_peugeot_106!!!!!!                 1\n",
      "!!!!!!!_AUTO_ZU_VERKAUFEN_!!!!!!                                      1\n",
      "!!!!!!!__VERKAUFE__!!!!!!                                             1\n",
      "!!!!!!BMW_325_COUPE_TOP_ZUSTAND_ANSCHAUEN_LOHNT_SICH_!!!!!!!          1\n",
      "!!!!!!BMW_E90_M_PAKET!!!!!!                                           1\n",
      "!!!!!!Bmw_323!!!!                                                     1\n",
      "!!!!!!Cabrio_Opel_Astra_Bertone_Leder_Sitzheizung.!!!!!!              1\n",
      "!!!!!!Golf_4___1.4__16_V__________                                    1\n",
      "!!!!!!SCHNÄPPCHENJAGD!!!!!!!                                          1\n",
      "!!!!!!SUCHE_Peugeot_206_SUCHE!!!!!!!                                  1\n",
      "!!!!!!_Ford_Ka_el._Fenster__Alu_felgen__CD__ABS___TÜV!!!!             1\n",
      "!!!!!!_Morgen_abzugeben_Renault__Twingo!!!!!                          1\n",
      "!!!!!Achtung_Warnung!!!!!_Hyundai_XG_30_v6___Bitte_lesen!!!!!         1\n",
      "!!!!!Audi_A6_Top!!!!                                                  1\n",
      "!!!!!Mazda_5!!!!!                                                     1\n",
      "!!!!!Peugeot_206!!!!!_TÜV_NEU                                         1\n",
      "!!!!!Suche_ein_Auto!!!!!                                              1\n",
      "!!!!!Suche_vw_golf_1_Cabrio                                           1\n",
      "!!!!!VOLKSWAGEN_VW_PASSAT!!!!!                                        1\n",
      "                                                                     ..\n",
      "_BMW_116i__Tausch_oder_Verkauf_                                     1\n",
      "_Polo_6N__TÜV/AU_NEU__3.HAND__VIELE_EXTRAS.._                    1\n",
      "_Zuverlaessiges_Auto_vom_Kfz_Mechatroniker_zu_verkaufen_            1\n",
      "_VW_GOLF_5_United__1_9_TDI_105_PS_TÜV/AU_02.17                    1\n",
      "Ford_Galaxy_TÜV_NEU                                             1\n",
      "_TOP_Twingo__C06___54.100KM_                                 1\n",
      "VW_Polo_6N1_4_L                                1\n",
      "_ein_Kombi_+_4WD__perfekt_fuer_alle_Lebenslagen__                    1\n",
      "¥_Schoener_Opel_corsa_/_Tausch_moeglich                               1\n",
      "°_Mercedes_Benz_190_E_2.0_1.Hd_SEC_Front_ESSD_ZV_YOUNGTIMER°          1\n",
      "°_°_MERCEDES_C_KLASSE_180_MIT_TÜV_°_°                                 1\n",
      "°°_MERCEDES_C180T_mit_Tuev_bis_01.2018_°_°                            1\n",
      "´VW_T4__Bus___2.5_TDI__Caravelle__Bis_13.00Uhr_reserviert             1\n",
      "´_VW_Up!_Groove_4_Tueren_Automatik_75_PS_Klima_Sitzheizung_Fender     1\n",
      "»Sommerauto«_Opel_Astra_F_Cabrio_\"Bertone_Edition\"                    1\n",
      "»TWINGO_1.2«                                                          1\n",
      "»_TWINGO_«                                                            1\n",
      "»_gepflegter_VW_Passat_3c_TDI_abzugeben__!                            1\n",
      "Älteres_Auto_zu_Verkaufen_aber_Laeuft.                                1\n",
      "Änfaengerauto_Opel_Corsa_B_1.0_Lpg                                    1\n",
      "Äusserst_gut_geplegtes_CLK_Cabrio                                     1\n",
      "Ökologisch___Elektrisch___Bezahlbar.__Fiat_New_500E                   1\n",
      "Ölpumpe_oder_oelsieb                                                  1\n",
      "Ölpumpe_oder_oelsieb_defekt                                           1\n",
      "Ölwanne_R1110140802_Passt_fuer_viele_Modelle                          1\n",
      "Öpel_Kadet_1_4i                                                       1\n",
      "×NISSAN_MICRA×__1.0_top_gepflegt!_Wenig_Kilometer!                    1\n",
      "Über_ein_Jahr_fahrspass_mit_faltdach                                  1\n",
      "Übergangsauto                                                         1\n",
      "Übernahme_Leasingvertrag                                              1\n",
      "dtype: int64\n"
     ]
    }
   ],
   "source": [
    "print(autos.groupby('name').size())\n",
    "#lots of special caracheters and expressions , that should be removed\n",
    "#e.g: !!!, \"top\", caps lock descriptions,..."
   ]
  },
  {
   "cell_type": "code",
   "execution_count": 8,
   "metadata": {
    "collapsed": false
   },
   "outputs": [
    {
     "name": "stdout",
     "output_type": "stream",
     "text": [
      "seller\n",
      "gewerblich         3\n",
      "privat        371525\n",
      "dtype: int64\n",
      "###################\n",
      "\n",
      "\n",
      "offerType\n",
      "Angebot    371513\n",
      "Gesuch         12\n",
      "dtype: int64\n"
     ]
    }
   ],
   "source": [
    "print(autos.groupby('seller').size())\n",
    "#remove the gewerblich instances:\n",
    "autos = autos[autos.seller != 'gewerblich']\n",
    "#this leaves us with only one type of seller, better delete\n",
    "autos = autos.drop('seller', 1)\n",
    "\n",
    "print('###################')\n",
    "print('\\n')\n",
    "\n",
    "print(autos.groupby('offerType').size())\n",
    "#remove the Gesuch instances:\n",
    "autos = autos[autos.offerType != 'Gesuch']\n",
    "#this leaves us with only one type of seller, better delete\n",
    "autos = autos.drop('offerType', 1)\n",
    "\n",
    "#all other collumns were already checked"
   ]
  },
  {
   "cell_type": "code",
   "execution_count": 9,
   "metadata": {
    "collapsed": false
   },
   "outputs": [
    {
     "data": {
      "text/plain": [
       "306"
      ]
     },
     "execution_count": 9,
     "metadata": {},
     "output_type": "execute_result"
    }
   ],
   "source": [
    "#big jump in powerPS (between the top 75% and the max)\n",
    "#invalid values, perhaps?\n",
    "work_data = autos[(autos.powerPS > 1000)]\n",
    "work_data.powerPS.count()"
   ]
  },
  {
   "cell_type": "code",
   "execution_count": 10,
   "metadata": {
    "collapsed": false
   },
   "outputs": [
    {
     "data": {
      "text/plain": [
       "1898    1024\n",
       "2199       0\n",
       "5582     480\n",
       "8038    1371\n",
       "8099    1368\n",
       "dtype: int64"
      ]
     },
     "execution_count": 10,
     "metadata": {},
     "output_type": "execute_result"
    }
   ],
   "source": [
    "data_to_plot = (work_data['powerPS'] & work_data['price'])\n",
    "data_to_plot.head(5)"
   ]
  },
  {
   "cell_type": "code",
   "execution_count": 11,
   "metadata": {
    "collapsed": false
   },
   "outputs": [
    {
     "data": {
      "text/plain": [
       "<matplotlib.collections.PathCollection at 0x26a05660ef0>"
      ]
     },
     "execution_count": 11,
     "metadata": {},
     "output_type": "execute_result"
    },
    {
     "data": {
      "image/png": "[encoded data removed]",
      "text/plain": [
       "<matplotlib.figure.Figure at 0x26a0438a240>"
      ]
     },
     "metadata": {},
     "output_type": "display_data"
    }
   ],
   "source": [
    "#Noticable outlier on the top\n",
    "plt.clf()\n",
    "plt.scatter(work_data['powerPS'],work_data['price'])"
   ]
  },
  {
   "cell_type": "code",
   "execution_count": 12,
   "metadata": {
    "collapsed": false
   },
   "outputs": [
    {
     "data": {
      "image/png": "[encoded data removed]",
      "text/plain": [
       "<matplotlib.figure.Figure at 0x26a0438a908>"
      ]
     },
     "metadata": {},
     "output_type": "display_data"
    }
   ],
   "source": [
    "#let's clean-up the mess\n",
    "autos = autos[(autos.price < 1000000) & (autos.price > 0)]\n",
    "work_data = autos[(autos.powerPS < 1000000) & (autos.price > 0)]\n",
    "#many zero price, I will address this later\n",
    "#no correlation possible, eleminate all the price > 1000000,\n",
    "#and power.PS > 1000 cases\n",
    "plt.clf()\n",
    "plt.scatter(work_data['powerPS'],work_data['price'])\n",
    "\n",
    "autos = autos[(autos.powerPS < 1000)]"
   ]
  },
  {
   "cell_type": "code",
   "execution_count": 13,
   "metadata": {
    "collapsed": false
   },
   "outputs": [
    {
     "data": {
      "text/plain": [
       "golf                  29056\n",
       "andere                25669\n",
       "3er                   19966\n",
       "polo                  12638\n",
       "corsa                 12191\n",
       "astra                 10482\n",
       "a4                     9991\n",
       "passat                 9981\n",
       "c_klasse               8630\n",
       "5er                    8333\n",
       "e_klasse               7400\n",
       "a3                     6503\n",
       "a6                     5845\n",
       "focus                  5818\n",
       "fiesta                 5654\n",
       "transporter            5383\n",
       "twingo                 4814\n",
       "2_reihe                4762\n",
       "fortwo                 4295\n",
       "a_klasse               4251\n",
       "vectra                 4083\n",
       "1er                    3818\n",
       "mondeo                 3508\n",
       "touran                 3496\n",
       "clio                   3463\n",
       "3_reihe                3433\n",
       "punto                  3240\n",
       "zafira                 2992\n",
       "megane                 2817\n",
       "ibiza                  2639\n",
       "                      ...  \n",
       "mii                      81\n",
       "crossfire                66\n",
       "range_rover_evoque       65\n",
       "gl                       63\n",
       "nubira                   60\n",
       "lybra                    51\n",
       "move                     51\n",
       "v60                      48\n",
       "145                      46\n",
       "croma                    45\n",
       "delta                    39\n",
       "amarok                   39\n",
       "terios                   35\n",
       "lodgy                    35\n",
       "9000                     28\n",
       "charade                  27\n",
       "b_max                    26\n",
       "musa                     23\n",
       "materia                  18\n",
       "200                      17\n",
       "kappa                    15\n",
       "samara                   12\n",
       "elefantino               11\n",
       "i3                       10\n",
       "kalina                    9\n",
       "serie_2                   8\n",
       "rangerover                6\n",
       "serie_3                   3\n",
       "discovery_sport           1\n",
       "serie_1                   1\n",
       "dtype: int64"
      ]
     },
     "execution_count": 13,
     "metadata": {},
     "output_type": "execute_result"
    }
   ],
   "source": [
    "#list(set(autos['model']))\n",
    "pd.value_counts(autos['model'].values,sort=True)\n",
    "#pd.unique(autos.model.ravel())"
   ]
  },
  {
   "cell_type": "code",
   "execution_count": 14,
   "metadata": {
    "collapsed": false
   },
   "outputs": [
    {
     "name": "stdout",
     "output_type": "stream",
     "text": [
      "model\n",
      "100              396\n",
      "145               46\n",
      "147              563\n",
      "156              604\n",
      "159              208\n",
      "1_reihe         1272\n",
      "1er             3818\n",
      "200               17\n",
      "2_reihe         4762\n",
      "300c             142\n",
      "3_reihe         3433\n",
      "3er            19966\n",
      "4_reihe          626\n",
      "500              915\n",
      "5_reihe          444\n",
      "5er             8333\n",
      "601              360\n",
      "6_reihe         1272\n",
      "6er              248\n",
      "7er             1112\n",
      "80              1516\n",
      "850              206\n",
      "90                95\n",
      "900              115\n",
      "9000              28\n",
      "911              941\n",
      "a1               620\n",
      "a2               368\n",
      "a3              6503\n",
      "a4              9991\n",
      "               ...  \n",
      "toledo           321\n",
      "touareg          731\n",
      "touran          3496\n",
      "transit          754\n",
      "transporter     5383\n",
      "tt              1313\n",
      "tucson           238\n",
      "twingo          4814\n",
      "up               346\n",
      "v40              749\n",
      "v50              252\n",
      "v60               48\n",
      "v70              631\n",
      "v_klasse         162\n",
      "vectra          4083\n",
      "verso            311\n",
      "viano            418\n",
      "vito             895\n",
      "vivaro           321\n",
      "voyager          312\n",
      "wrangler         162\n",
      "x_reihe         2288\n",
      "x_trail          213\n",
      "x_type           175\n",
      "xc_reihe         337\n",
      "yaris           1029\n",
      "yeti             199\n",
      "ypsilon          200\n",
      "z_reihe          882\n",
      "zafira          2992\n",
      "dtype: int64\n"
     ]
    }
   ],
   "source": [
    "print(autos.groupby('model').size())\n",
    "#multiple instances of passat? Perhaps there are typo erros introducing the models\n",
    "#this is worthy of more investigation\n",
    "#autos['model'].unique\n",
    "\n",
    "#check the number of collumns"
   ]
  },
  {
   "cell_type": "code",
   "execution_count": 15,
   "metadata": {
    "collapsed": true
   },
   "outputs": [],
   "source": [
    "##################################\n",
    "##### Null Values analysis #######\n",
    "##################################"
   ]
  },
  {
   "cell_type": "code",
   "execution_count": 31,
   "metadata": {
    "collapsed": false
   },
   "outputs": [
    {
     "data": {
      "text/html": [
       "<div>\n",
       "<table border=\"1\" class=\"dataframe\">\n",
       "  <thead>\n",
       "    <tr style=\"text-align: right;\">\n",
       "      <th></th>\n",
       "      <th>dateCrawled</th>\n",
       "      <th>name</th>\n",
       "      <th>price</th>\n",
       "      <th>abtest</th>\n",
       "      <th>vehicleType</th>\n",
       "      <th>yearOfRegistration</th>\n",
       "      <th>gearbox</th>\n",
       "      <th>powerPS</th>\n",
       "      <th>model</th>\n",
       "      <th>kilometer</th>\n",
       "      <th>monthOfRegistration</th>\n",
       "      <th>fuelType</th>\n",
       "      <th>brand</th>\n",
       "      <th>notRepairedDamage</th>\n",
       "      <th>dateCreated</th>\n",
       "      <th>postalCode</th>\n",
       "      <th>lastSeen</th>\n",
       "    </tr>\n",
       "  </thead>\n",
       "  <tbody>\n",
       "    <tr>\n",
       "      <th>15</th>\n",
       "      <td>2016-03-11 21:39:15</td>\n",
       "      <td>KA_Lufthansa_Edition_450_VB</td>\n",
       "      <td>450</td>\n",
       "      <td>test</td>\n",
       "      <td>kleinwagen</td>\n",
       "      <td>1910</td>\n",
       "      <td>NaN</td>\n",
       "      <td>0</td>\n",
       "      <td>ka</td>\n",
       "      <td>5000</td>\n",
       "      <td>0</td>\n",
       "      <td>benzin</td>\n",
       "      <td>ford</td>\n",
       "      <td>NaN</td>\n",
       "      <td>2016-03-11 00:00:00</td>\n",
       "      <td>24148</td>\n",
       "      <td>2016-03-19 08:46:47</td>\n",
       "    </tr>\n",
       "    <tr>\n",
       "      <th>16</th>\n",
       "      <td>2016-04-01 12:46:46</td>\n",
       "      <td>Polo_6n_1_4</td>\n",
       "      <td>300</td>\n",
       "      <td>test</td>\n",
       "      <td>NaN</td>\n",
       "      <td>2016</td>\n",
       "      <td>NaN</td>\n",
       "      <td>60</td>\n",
       "      <td>polo</td>\n",
       "      <td>150000</td>\n",
       "      <td>0</td>\n",
       "      <td>benzin</td>\n",
       "      <td>volkswagen</td>\n",
       "      <td>NaN</td>\n",
       "      <td>2016-04-01 00:00:00</td>\n",
       "      <td>38871</td>\n",
       "      <td>2016-04-01 12:46:46</td>\n",
       "    </tr>\n",
       "    <tr>\n",
       "      <th>32</th>\n",
       "      <td>2016-03-15 20:59:01</td>\n",
       "      <td>Golf_3_....._1.4</td>\n",
       "      <td>245</td>\n",
       "      <td>test</td>\n",
       "      <td>limousine</td>\n",
       "      <td>1994</td>\n",
       "      <td>NaN</td>\n",
       "      <td>0</td>\n",
       "      <td>golf</td>\n",
       "      <td>150000</td>\n",
       "      <td>2</td>\n",
       "      <td>benzin</td>\n",
       "      <td>volkswagen</td>\n",
       "      <td>nein</td>\n",
       "      <td>2016-03-15 00:00:00</td>\n",
       "      <td>44145</td>\n",
       "      <td>2016-03-17 18:17:43</td>\n",
       "    </tr>\n",
       "    <tr>\n",
       "      <th>37</th>\n",
       "      <td>2016-03-28 17:50:15</td>\n",
       "      <td>Renault_Kangoo_1.9_Diesel</td>\n",
       "      <td>1500</td>\n",
       "      <td>test</td>\n",
       "      <td>NaN</td>\n",
       "      <td>2016</td>\n",
       "      <td>NaN</td>\n",
       "      <td>0</td>\n",
       "      <td>kangoo</td>\n",
       "      <td>150000</td>\n",
       "      <td>1</td>\n",
       "      <td>diesel</td>\n",
       "      <td>renault</td>\n",
       "      <td>nein</td>\n",
       "      <td>2016-03-28 00:00:00</td>\n",
       "      <td>46483</td>\n",
       "      <td>2016-03-30 09:18:02</td>\n",
       "    </tr>\n",
       "    <tr>\n",
       "      <th>70</th>\n",
       "      <td>2016-04-01 11:56:40</td>\n",
       "      <td>Opel_astra_g_coupe_1.8_liter_benziner</td>\n",
       "      <td>1200</td>\n",
       "      <td>test</td>\n",
       "      <td>coupe</td>\n",
       "      <td>2001</td>\n",
       "      <td>NaN</td>\n",
       "      <td>0</td>\n",
       "      <td>astra</td>\n",
       "      <td>150000</td>\n",
       "      <td>0</td>\n",
       "      <td>NaN</td>\n",
       "      <td>opel</td>\n",
       "      <td>NaN</td>\n",
       "      <td>2016-04-01 00:00:00</td>\n",
       "      <td>47249</td>\n",
       "      <td>2016-04-07 08:46:07</td>\n",
       "    </tr>\n",
       "  </tbody>\n",
       "</table>\n",
       "</div>"
      ],
      "text/plain": [
       "            dateCrawled                                   name  price abtest  \\\n",
       "15  2016-03-11 21:39:15           KA_Lufthansa_Edition_450_VB    450   test   \n",
       "16  2016-04-01 12:46:46                            Polo_6n_1_4    300   test   \n",
       "32  2016-03-15 20:59:01                       Golf_3_....._1.4    245   test   \n",
       "37  2016-03-28 17:50:15              Renault_Kangoo_1.9_Diesel   1500   test   \n",
       "70  2016-04-01 11:56:40  Opel_astra_g_coupe_1.8_liter_benziner   1200   test   \n",
       "\n",
       "   vehicleType  yearOfRegistration gearbox  powerPS   model  kilometer  \\\n",
       "15  kleinwagen                1910     NaN        0      ka       5000   \n",
       "16         NaN                2016     NaN       60    polo     150000   \n",
       "32   limousine                1994     NaN        0    golf     150000   \n",
       "37         NaN                2016     NaN        0  kangoo     150000   \n",
       "70       coupe                2001     NaN        0   astra     150000   \n",
       "\n",
       "    monthOfRegistration fuelType       brand notRepairedDamage  \\\n",
       "15                    0   benzin        ford               NaN   \n",
       "16                    0   benzin  volkswagen               NaN   \n",
       "32                    2   benzin  volkswagen              nein   \n",
       "37                    1   diesel     renault              nein   \n",
       "70                    0      NaN        opel               NaN   \n",
       "\n",
       "            dateCreated  postalCode             lastSeen  \n",
       "15  2016-03-11 00:00:00       24148  2016-03-19 08:46:47  \n",
       "16  2016-04-01 00:00:00       38871  2016-04-01 12:46:46  \n",
       "32  2016-03-15 00:00:00       44145  2016-03-17 18:17:43  \n",
       "37  2016-03-28 00:00:00       46483  2016-03-30 09:18:02  \n",
       "70  2016-04-01 00:00:00       47249  2016-04-07 08:46:07  "
      ]
     },
     "execution_count": 31,
     "metadata": {},
     "output_type": "execute_result"
    }
   ],
   "source": [
    "experiment = autos[['model','gearbox']]\n",
    "experiment = experiment.dropna()\n",
    "\n",
    "X_train = experiment['model']          \n",
    "Y_train = experiment['gearbox']\n",
    "\n",
    "experiment_data = autos[autos.gearbox.isnull()]\n",
    "Y_test = experiment_data['model']\n",
    "\n",
    "experiment_data.head(5)"
   ]
  },
  {
   "cell_type": "code",
   "execution_count": 17,
   "metadata": {
    "collapsed": false
   },
   "outputs": [
    {
     "data": {
      "text/plain": [
       "dateCrawled                0\n",
       "name                       0\n",
       "price                      0\n",
       "abtest                     0\n",
       "vehicleType            34053\n",
       "yearOfRegistration         0\n",
       "gearbox                17678\n",
       "powerPS                    0\n",
       "model                  18235\n",
       "kilometer                  0\n",
       "monthOfRegistration        0\n",
       "fuelType               29856\n",
       "brand                      0\n",
       "notRepairedDamage      66625\n",
       "dateCreated                0\n",
       "postalCode                 0\n",
       "lastSeen                   0\n",
       "dtype: int64"
      ]
     },
     "execution_count": 17,
     "metadata": {},
     "output_type": "execute_result"
    }
   ],
   "source": [
    "autos.isnull().sum()"
   ]
  },
  {
   "cell_type": "code",
   "execution_count": 26,
   "metadata": {
    "collapsed": false
   },
   "outputs": [
    {
     "name": "stderr",
     "output_type": "stream",
     "text": [
      "C:\\Users\\Marci\\Anaconda3\\lib\\site-packages\\ipykernel\\__main__.py:8: SettingWithCopyWarning: \n",
      "A value is trying to be set on a copy of a slice from a DataFrame.\n",
      "Try using .loc[row_indexer,col_indexer] = value instead\n",
      "\n",
      "See the caveats in the documentation: http://pandas.pydata.org/pandas-docs/stable/indexing.html#indexing-view-versus-copy\n",
      "C:\\Users\\Marci\\Anaconda3\\lib\\site-packages\\ipykernel\\__main__.py:9: SettingWithCopyWarning: \n",
      "A value is trying to be set on a copy of a slice from a DataFrame.\n",
      "Try using .loc[row_indexer,col_indexer] = value instead\n",
      "\n",
      "See the caveats in the documentation: http://pandas.pydata.org/pandas-docs/stable/indexing.html#indexing-view-versus-copy\n"
     ]
    },
    {
     "ename": "ValueError",
     "evalue": "Number of features of the model must  match the input. Model n_features is 251 and  input n_features is 234 ",
     "output_type": "error",
     "traceback": [
      "\u001b[0;31m---------------------------------------------------------------------------\u001b[0m",
      "\u001b[0;31mValueError\u001b[0m                                Traceback (most recent call last)",
      "\u001b[0;32m<ipython-input-26-1bf9ffaafde3>\u001b[0m in \u001b[0;36m<module>\u001b[0;34m()\u001b[0m\n\u001b[1;32m     42\u001b[0m \u001b[0mclf\u001b[0m \u001b[1;33m=\u001b[0m \u001b[0mtree\u001b[0m\u001b[1;33m.\u001b[0m\u001b[0mDecisionTreeClassifier\u001b[0m\u001b[1;33m(\u001b[0m\u001b[1;33m)\u001b[0m\u001b[1;33m\u001b[0m\u001b[0m\n\u001b[1;32m     43\u001b[0m \u001b[0mclf\u001b[0m \u001b[1;33m=\u001b[0m \u001b[0mclf\u001b[0m\u001b[1;33m.\u001b[0m\u001b[0mfit\u001b[0m\u001b[1;33m(\u001b[0m\u001b[0mX_train\u001b[0m\u001b[1;33m,\u001b[0m\u001b[0mY_train\u001b[0m\u001b[1;33m)\u001b[0m\u001b[1;33m\u001b[0m\u001b[0m\n\u001b[0;32m---> 44\u001b[0;31m \u001b[0mprediction\u001b[0m \u001b[1;33m=\u001b[0m \u001b[0mclf\u001b[0m\u001b[1;33m.\u001b[0m\u001b[0mpredict\u001b[0m\u001b[1;33m(\u001b[0m\u001b[0mY_test\u001b[0m\u001b[1;33m)\u001b[0m\u001b[1;33m\u001b[0m\u001b[0m\n\u001b[0m",
      "\u001b[0;32mC:\\Users\\Marci\\Anaconda3\\lib\\site-packages\\sklearn\\tree\\tree.py\u001b[0m in \u001b[0;36mpredict\u001b[0;34m(self, X, check_input)\u001b[0m\n\u001b[1;32m    402\u001b[0m         \"\"\"\n\u001b[1;32m    403\u001b[0m \u001b[1;33m\u001b[0m\u001b[0m\n\u001b[0;32m--> 404\u001b[0;31m         \u001b[0mX\u001b[0m \u001b[1;33m=\u001b[0m \u001b[0mself\u001b[0m\u001b[1;33m.\u001b[0m\u001b[0m_validate_X_predict\u001b[0m\u001b[1;33m(\u001b[0m\u001b[0mX\u001b[0m\u001b[1;33m,\u001b[0m \u001b[0mcheck_input\u001b[0m\u001b[1;33m)\u001b[0m\u001b[1;33m\u001b[0m\u001b[0m\n\u001b[0m\u001b[1;32m    405\u001b[0m         \u001b[0mproba\u001b[0m \u001b[1;33m=\u001b[0m \u001b[0mself\u001b[0m\u001b[1;33m.\u001b[0m\u001b[0mtree_\u001b[0m\u001b[1;33m.\u001b[0m\u001b[0mpredict\u001b[0m\u001b[1;33m(\u001b[0m\u001b[0mX\u001b[0m\u001b[1;33m)\u001b[0m\u001b[1;33m\u001b[0m\u001b[0m\n\u001b[1;32m    406\u001b[0m         \u001b[0mn_samples\u001b[0m \u001b[1;33m=\u001b[0m \u001b[0mX\u001b[0m\u001b[1;33m.\u001b[0m\u001b[0mshape\u001b[0m\u001b[1;33m[\u001b[0m\u001b[1;36m0\u001b[0m\u001b[1;33m]\u001b[0m\u001b[1;33m\u001b[0m\u001b[0m\n",
      "\u001b[0;32mC:\\Users\\Marci\\Anaconda3\\lib\\site-packages\\sklearn\\tree\\tree.py\u001b[0m in \u001b[0;36m_validate_X_predict\u001b[0;34m(self, X, check_input)\u001b[0m\n\u001b[1;32m    374\u001b[0m                              \u001b[1;34m\" match the input. Model n_features is %s and \"\u001b[0m\u001b[1;33m\u001b[0m\u001b[0m\n\u001b[1;32m    375\u001b[0m                              \u001b[1;34m\" input n_features is %s \"\u001b[0m\u001b[1;33m\u001b[0m\u001b[0m\n\u001b[0;32m--> 376\u001b[0;31m                              % (self.n_features_, n_features))\n\u001b[0m\u001b[1;32m    377\u001b[0m \u001b[1;33m\u001b[0m\u001b[0m\n\u001b[1;32m    378\u001b[0m         \u001b[1;32mreturn\u001b[0m \u001b[0mX\u001b[0m\u001b[1;33m\u001b[0m\u001b[0m\n",
      "\u001b[0;31mValueError\u001b[0m: Number of features of the model must  match the input. Model n_features is 251 and  input n_features is 234 "
     ]
    },
    {
     "data": {
      "image/png": "[encoded data removed]",
      "text/plain": [
       "<matplotlib.figure.Figure at 0x26a048e7c88>"
      ]
     },
     "metadata": {},
     "output_type": "display_data"
    }
   ],
   "source": [
    "#gearbox\n",
    "#fisrt check the mode\n",
    "sns.countplot(autos['gearbox'])\n",
    "#there is an apparent mode, but it is not dominant enough to just, replace all the missing values by it\n",
    "\n",
    "#let's apply the rule of thumb\n",
    "#electric cars have electric gears and vice versa\n",
    "autos[(autos.gearbox =='automatik')]['fuelType'] = 'elektro'    \n",
    "autos[(autos.fuelType =='elektro')]['gearbox'] = 'automatik'       \n",
    "autos.isnull().sum()      \n",
    "\n",
    "#no gain :(\n",
    "\n",
    "#are there any Gasoline cars with auto gears???\n",
    "\n",
    "##################################################################################\n",
    "#train_null_data = autos\n",
    "#null_data = autos[autos.'gearbox'.isnull().any(axis=1)]\n",
    "\n",
    "experiment = autos[['model','gearbox']]\n",
    "experiment = experiment.dropna()\n",
    "\n",
    "X_train = experiment['model']          \n",
    "Y_train = experiment['gearbox']\n",
    "\n",
    "experiment_data = autos[autos.gearbox.isnull()]\n",
    "Y_test = experiment_data['model']\n",
    "\n",
    "\n",
    "X_train = pd.get_dummies(X_train)\n",
    "Y_train = pd.get_dummies(Y_train)\n",
    "Y_test = pd.get_dummies(Y_test)\n",
    "\n",
    "\n",
    "#from sklearn.ensemble import RandomForestClassifier\n",
    "#rfc = RandomForestClassifier(min_samples_split=5, oob_score=True)\n",
    "#clf_rfc1 = rfc.fit(X_train, Y_train)\n",
    "#prediction = clf_rfc1.predict(Y_test)                    \n",
    "\n",
    "\n",
    "\n",
    "from sklearn import tree\n",
    "\n",
    "clf = tree.DecisionTreeClassifier()\n",
    "clf = clf.fit(X_train,Y_train)\n",
    "prediction = clf.predict(Y_test)  "
   ]
  },
  {
   "cell_type": "code",
   "execution_count": null,
   "metadata": {
    "collapsed": true
   },
   "outputs": [],
   "source": []
  },
  {
   "cell_type": "code",
   "execution_count": null,
   "metadata": {
    "collapsed": false
   },
   "outputs": [],
   "source": [
    "#notRepairedDamage\n",
    "#from a logic point of view \"null\" in this field can also mean the abcense of repair\n",
    "#let's confirm\n",
    "\n",
    "sns.countplot(autos['notRepairedDamage'])\n",
    "#Chances look good to our hypothesis\n",
    "#which variables would be good to have to detect or not the possiblity of a repoair?\n",
    "#hints: yearOfRegistration,kilometer,powerPS\n",
    "\n",
    "#Knn imputation"
   ]
  },
  {
   "cell_type": "code",
   "execution_count": null,
   "metadata": {
    "collapsed": false
   },
   "outputs": [],
   "source": [
    "print(autos['price'].skew())"
   ]
  },
  {
   "cell_type": "code",
   "execution_count": null,
   "metadata": {
    "collapsed": false
   },
   "outputs": [],
   "source": [
    "#histogram on price\n",
    "plt.subplots(figsize=(13,9))\n",
    "sns.kdeplot(autos['price'])\n",
    "sns.plt.show()"
   ]
  },
  {
   "cell_type": "code",
   "execution_count": null,
   "metadata": {
    "collapsed": false
   },
   "outputs": [],
   "source": [
    "#let see a boxplot for price\n",
    "sns.boxplot(autos['price'])\n",
    "sns.plt.show()"
   ]
  },
  {
   "cell_type": "code",
   "execution_count": null,
   "metadata": {
    "collapsed": false
   },
   "outputs": [],
   "source": [
    "plt.boxplot(autos.price)"
   ]
  },
  {
   "cell_type": "code",
   "execution_count": null,
   "metadata": {
    "collapsed": false
   },
   "outputs": [],
   "source": [
    "#Gold! we see that, outliers wil start at 18000, considered price\n",
    "plt.boxplot(autos.price,showfliers=False)"
   ]
  },
  {
   "cell_type": "code",
   "execution_count": null,
   "metadata": {
    "collapsed": false
   },
   "outputs": [],
   "source": [
    "sns.boxplot(autos.price.dropna())"
   ]
  },
  {
   "cell_type": "code",
   "execution_count": null,
   "metadata": {
    "collapsed": false
   },
   "outputs": [],
   "source": [
    "plt.plot(autos['price'])"
   ]
  },
  {
   "cell_type": "code",
   "execution_count": null,
   "metadata": {
    "collapsed": false
   },
   "outputs": [],
   "source": [
    "#inspecting: price\n",
    "plt.subplot(3,1,1)\n",
    "autos['price'].hist(bins=50)\n",
    "plt.title('Original-Histogram price')\n",
    "plt.show()\n",
    "#There are kinda expensive cars on sale. The owners are slightly overestimating the value I guess.\n",
    "\n",
    "#I'll' cut the price at 100000\n",
    "work_data = autos[autos.price < 100000]\n",
    "expensive_autos = autos[autos.price >= 100000]\n",
    "\n",
    "plt.subplot(3,1,2)\n",
    "work_data['price'].hist(bins=50)\n",
    "plt.title('Cut-Histogram price')\n",
    "plt.show()\n",
    "\n",
    "print(len(work_data[work_data.price == 0]), 'cars with price 0')\n",
    "#The other way round some people are giving their car away for free. Unlikly in such high rates. Remove!\n",
    "#autos = autos[autos.price != 0]\n",
    "autos = autos[autos.price != 0]\n",
    "work_data = autos[autos.price < 100000]\n",
    "\n",
    "plt.subplot(3,1,3)\n",
    "work_data['price'].hist(bins=50)\n",
    "plt.title('Final-Histogram price')\n",
    "plt.show()"
   ]
  },
  {
   "cell_type": "code",
   "execution_count": null,
   "metadata": {
    "collapsed": false
   },
   "outputs": [],
   "source": [
    "expensive_autos.describe()\n",
    "print('###################')"
   ]
  },
  {
   "cell_type": "code",
   "execution_count": null,
   "metadata": {
    "collapsed": false
   },
   "outputs": [],
   "source": [
    "print(expensive_autos.shape)"
   ]
  },
  {
   "cell_type": "code",
   "execution_count": null,
   "metadata": {
    "collapsed": true
   },
   "outputs": [],
   "source": [
    "#perhaps it is best to create to data sets\n",
    "#one focusing on standard cars and another for expensive cars\n",
    "\n",
    "#let's find what's differentiates them (besides the price)..."
   ]
  },
  {
   "cell_type": "code",
   "execution_count": null,
   "metadata": {
    "collapsed": false
   },
   "outputs": [],
   "source": [
    "\n",
    "#run a regression on the binary target\n",
    "from sklearn import tree\n",
    "X = autos[!'pricy_or_not']\n",
    "Y = autos['pricy_or_not']\n",
    "clf = tree.DecisionTreeClassifier()\n",
    "clf = clf.fit(X, Y)\n",
    "\n",
    "with open(\"iris.dot\", 'w') as f:\n",
    "f = tree.export_graphviz(clf, out_file=f)\n",
    "\n",
    "import os\n",
    "os.unlink('iris.dot')\n",
    "\n",
    "\n",
    "import pydotplus \n",
    "dot_data = tree.export_graphviz(clf, out_file=None) \n",
    "graph = pydotplus.graph_from_dot_data(dot_data) \n",
    "graph.write_pdf(\"iris.pdf\") \n",
    "\n",
    "\n",
    "from IPython.display import Image  \n",
    "dot_data = tree.export_graphviz(clf, out_file=None, \n",
    "                         feature_names=iris.feature_names,  \n",
    "                         class_names=iris.target_names,  \n",
    "                         filled=True, rounded=True,  \n",
    "                         special_characters=True)  \n",
    "graph = pydotplus.graph_from_dot_data(dot_data)  \n",
    "Image(graph.create_png())  \n",
    "\n",
    "\n",
    "# or a random forest \n",
    "RandomForestClassifier(n_estimators=10, \n",
    "                       criterion='gini', \n",
    "                       max_depth=None, \n",
    "                       min_samples_split=2, \n",
    "                       min_samples_leaf=1, \n",
    "                       min_weight_fraction_leaf=0.0, max_features='auto', max_leaf_nodes=None, min_impurity_split=1e-07, bootstrap=True, oob_score=False, \n",
    "                       n_jobs=1, random_state=None, verbose=0, warm_start=False, class_weight=None)"
   ]
  },
  {
   "cell_type": "code",
   "execution_count": null,
   "metadata": {
    "collapsed": true
   },
   "outputs": [],
   "source": [
    "#K-means clustering for analysis\n",
    "X = autos[!'price']\n",
    "Y = autos['pre']\n",
    "clf = tree.DecisionTreeClassifier()\n",
    "clf = clf.fit(X, Y)"
   ]
  },
  {
   "cell_type": "code",
   "execution_count": null,
   "metadata": {
    "collapsed": true
   },
   "outputs": [],
   "source": []
  },
  {
   "cell_type": "code",
   "execution_count": null,
   "metadata": {
    "collapsed": true
   },
   "outputs": [],
   "source": []
  },
  {
   "cell_type": "code",
   "execution_count": null,
   "metadata": {
    "collapsed": true
   },
   "outputs": [],
   "source": []
  }
 ],
 "metadata": {
  "anaconda-cloud": {},
  "kernelspec": {
   "display_name": "Python [conda root]",
   "language": "python",
   "name": "conda-root-py"
  },
  "language_info": {
   "codemirror_mode": {
    "name": "ipython",
    "version": 3
   },
   "file_extension": ".py",
   "mimetype": "text/x-python",
   "name": "python",
   "nbconvert_exporter": "python",
   "pygments_lexer": "ipython3",
   "version": "3.5.2"
  }
 },
 "nbformat": 4,
 "nbformat_minor": 0
}
